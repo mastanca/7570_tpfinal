{
  "nbformat": 4,
  "nbformat_minor": 0,
  "metadata": {
    "colab": {
      "name": "tp_final_robots.ipynb",
      "version": "0.3.2",
      "provenance": [],
      "collapsed_sections": [],
      "toc_visible": true
    },
    "kernelspec": {
      "name": "python3",
      "display_name": "Python 3"
    },
    "accelerator": "GPU"
  },
  "cells": [
    {
      "cell_type": "markdown",
      "metadata": {
        "id": "tf9lHhJGblXQ",
        "colab_type": "text"
      },
      "source": [
        "# FIUBA - 75.70 Sistemas de Programación no Convencional de Robots\n",
        "\n",
        "# Trabajo Práctico Final\n",
        "\n",
        "# 1er Cuatrimestre 2019\n",
        "\n",
        "## Grupo 2\n",
        "\n",
        "### Martin Stancanelli 95188\n",
        "### Juan Manuel Lambre xxxxx"
      ]
    },
    {
      "cell_type": "markdown",
      "metadata": {
        "id": "83mvYpZibn1t",
        "colab_type": "text"
      },
      "source": [
        "## Instalación de dependencias"
      ]
    },
    {
      "cell_type": "code",
      "metadata": {
        "id": "VTi07nCGbhxZ",
        "colab_type": "code",
        "outputId": "6d56b827-4098-45aa-e021-f271919d2e48",
        "colab": {
          "base_uri": "https://localhost:8080/",
          "height": 785
        }
      },
      "source": [
        "!pip install tpot dask dask-ml gdown imbalanced-learn\n",
        "# Download dataset\n",
        "!gdown \"https://drive.google.com/uc?id=1aLBisToSU8V5zexdSF2RQNYkNgsVbVqL\""
      ],
      "execution_count": 51,
      "outputs": [
        {
          "output_type": "stream",
          "text": [
            "Requirement already satisfied: tpot in /usr/local/lib/python3.6/dist-packages (0.10.1)\n",
            "Requirement already satisfied: dask in /usr/local/lib/python3.6/dist-packages (1.1.5)\n",
            "Requirement already satisfied: dask-ml in /usr/local/lib/python3.6/dist-packages (1.0.0)\n",
            "Requirement already satisfied: gdown in /usr/local/lib/python3.6/dist-packages (3.6.4)\n",
            "Requirement already satisfied: imbalanced-learn in /usr/local/lib/python3.6/dist-packages (0.4.3)\n",
            "Requirement already satisfied: deap>=1.0 in /usr/local/lib/python3.6/dist-packages (from tpot) (1.3.0)\n",
            "Requirement already satisfied: pandas>=0.20.2 in /usr/local/lib/python3.6/dist-packages (from tpot) (0.24.2)\n",
            "Requirement already satisfied: update-checker>=0.16 in /usr/local/lib/python3.6/dist-packages (from tpot) (0.16)\n",
            "Requirement already satisfied: stopit>=1.1.1 in /usr/local/lib/python3.6/dist-packages (from tpot) (1.1.2)\n",
            "Requirement already satisfied: numpy>=1.12.1 in /usr/local/lib/python3.6/dist-packages (from tpot) (1.16.4)\n",
            "Requirement already satisfied: tqdm>=4.26.0 in /usr/local/lib/python3.6/dist-packages (from tpot) (4.28.1)\n",
            "Requirement already satisfied: scikit-learn>=0.18.1 in /usr/local/lib/python3.6/dist-packages (from tpot) (0.21.2)\n",
            "Requirement already satisfied: scipy>=0.19.0 in /usr/local/lib/python3.6/dist-packages (from tpot) (1.3.0)\n",
            "Requirement already satisfied: packaging in /usr/local/lib/python3.6/dist-packages (from dask-ml) (19.0)\n",
            "Requirement already satisfied: distributed>=1.25.0 in /usr/local/lib/python3.6/dist-packages (from dask-ml) (1.25.3)\n",
            "Requirement already satisfied: dask-glm in /usr/local/lib/python3.6/dist-packages (from dask-ml) (0.2.0)\n",
            "Requirement already satisfied: numba in /usr/local/lib/python3.6/dist-packages (from dask-ml) (0.40.1)\n",
            "Requirement already satisfied: multipledispatch>=0.4.9 in /usr/local/lib/python3.6/dist-packages (from dask-ml) (0.6.0)\n",
            "Requirement already satisfied: requests in /usr/local/lib/python3.6/dist-packages (from gdown) (2.21.0)\n",
            "Requirement already satisfied: six in /usr/local/lib/python3.6/dist-packages (from gdown) (1.12.0)\n",
            "Requirement already satisfied: python-dateutil>=2.5.0 in /usr/local/lib/python3.6/dist-packages (from pandas>=0.20.2->tpot) (2.5.3)\n",
            "Requirement already satisfied: pytz>=2011k in /usr/local/lib/python3.6/dist-packages (from pandas>=0.20.2->tpot) (2018.9)\n",
            "Requirement already satisfied: joblib>=0.11 in /usr/local/lib/python3.6/dist-packages (from scikit-learn>=0.18.1->tpot) (0.13.2)\n",
            "Requirement already satisfied: pyparsing>=2.0.2 in /usr/local/lib/python3.6/dist-packages (from packaging->dask-ml) (2.4.0)\n",
            "Requirement already satisfied: pyyaml in /usr/local/lib/python3.6/dist-packages (from distributed>=1.25.0->dask-ml) (3.13)\n",
            "Requirement already satisfied: tblib in /usr/local/lib/python3.6/dist-packages (from distributed>=1.25.0->dask-ml) (1.4.0)\n",
            "Requirement already satisfied: zict>=0.1.3 in /usr/local/lib/python3.6/dist-packages (from distributed>=1.25.0->dask-ml) (0.1.4)\n",
            "Requirement already satisfied: cloudpickle>=0.2.2 in /usr/local/lib/python3.6/dist-packages (from distributed>=1.25.0->dask-ml) (0.6.1)\n",
            "Requirement already satisfied: sortedcontainers!=2.0.0,!=2.0.1 in /usr/local/lib/python3.6/dist-packages (from distributed>=1.25.0->dask-ml) (2.1.0)\n",
            "Requirement already satisfied: toolz>=0.7.4 in /usr/local/lib/python3.6/dist-packages (from distributed>=1.25.0->dask-ml) (0.9.0)\n",
            "Requirement already satisfied: click>=6.6 in /usr/local/lib/python3.6/dist-packages (from distributed>=1.25.0->dask-ml) (7.0)\n",
            "Requirement already satisfied: tornado>=4.5.1 in /usr/local/lib/python3.6/dist-packages (from distributed>=1.25.0->dask-ml) (4.5.3)\n",
            "Requirement already satisfied: msgpack in /usr/local/lib/python3.6/dist-packages (from distributed>=1.25.0->dask-ml) (0.5.6)\n",
            "Requirement already satisfied: psutil>=5.0 in /usr/local/lib/python3.6/dist-packages (from distributed>=1.25.0->dask-ml) (5.4.8)\n",
            "Requirement already satisfied: llvmlite>=0.25.0dev0 in /usr/local/lib/python3.6/dist-packages (from numba->dask-ml) (0.29.0)\n",
            "Requirement already satisfied: idna<2.9,>=2.5 in /usr/local/lib/python3.6/dist-packages (from requests->gdown) (2.8)\n",
            "Requirement already satisfied: urllib3<1.25,>=1.21.1 in /usr/local/lib/python3.6/dist-packages (from requests->gdown) (1.24.3)\n",
            "Requirement already satisfied: chardet<3.1.0,>=3.0.2 in /usr/local/lib/python3.6/dist-packages (from requests->gdown) (3.0.4)\n",
            "Requirement already satisfied: certifi>=2017.4.17 in /usr/local/lib/python3.6/dist-packages (from requests->gdown) (2019.3.9)\n",
            "Requirement already satisfied: heapdict in /usr/local/lib/python3.6/dist-packages (from zict>=0.1.3->distributed>=1.25.0->dask-ml) (1.0.0)\n",
            "Downloading...\n",
            "From: https://drive.google.com/uc?id=1aLBisToSU8V5zexdSF2RQNYkNgsVbVqL\n",
            "To: /content/train.csv\n",
            "312MB [00:06, 48.3MB/s]\n"
          ],
          "name": "stdout"
        }
      ]
    },
    {
      "cell_type": "markdown",
      "metadata": {
        "id": "YLiXSKalNZAi",
        "colab_type": "text"
      },
      "source": [
        "## Imports"
      ]
    },
    {
      "cell_type": "code",
      "metadata": {
        "id": "tQjymzG1Nc3W",
        "colab_type": "code",
        "colab": {}
      },
      "source": [
        "import pandas as pd\n",
        "import numpy as np\n",
        "\n",
        "from sklearn.model_selection import train_test_split\n",
        "from tpot import TPOTClassifier\n",
        "from imblearn.under_sampling import RandomUnderSampler\n",
        "from sklearn.ensemble import RandomForestClassifier\n",
        "from sklearn.naive_bayes import GaussianNB\n",
        "from sklearn import metrics"
      ],
      "execution_count": 0,
      "outputs": []
    },
    {
      "cell_type": "markdown",
      "metadata": {
        "id": "LwdV8brZNgLi",
        "colab_type": "text"
      },
      "source": [
        "## Lectura de datos\n"
      ]
    },
    {
      "cell_type": "code",
      "metadata": {
        "id": "Q4BgZw_SNpCr",
        "colab_type": "code",
        "colab": {}
      },
      "source": [
        "dataset = pd.read_csv(\"/content/train.csv\")\n",
        "\n",
        "X = dataset.drop(['target'], axis=1)\n",
        "y = dataset.target"
      ],
      "execution_count": 0,
      "outputs": []
    },
    {
      "cell_type": "markdown",
      "metadata": {
        "id": "2N_4R5y_O37-",
        "colab_type": "text"
      },
      "source": [
        "## Preparación de datos"
      ]
    },
    {
      "cell_type": "markdown",
      "metadata": {
        "id": "7A3zgkXD8cLK",
        "colab_type": "text"
      },
      "source": [
        "### Balanceo de datos\n",
        " (Opcional) Si no se corre esta seccion se usa el set original desbalanceado\n",
        "\n",
        "El set de datos esta desbalanceado, tiene mas elementos de la clase 0 que de la clase 1 (ratio 9:1). Se hace un undersampleo para quedarse con la misma cantidad de ambos que la cantidad de la clase minoritaria."
      ]
    },
    {
      "cell_type": "code",
      "metadata": {
        "id": "ueG10H6l6B3t",
        "colab_type": "code",
        "outputId": "b6d52a52-7455-4994-afae-93d58b2aedc2",
        "colab": {
          "base_uri": "https://localhost:8080/",
          "height": 329
        }
      },
      "source": [
        "target_count = y.value_counts()\n",
        "print('Class 0:', target_count[0])\n",
        "print('Class 1:', target_count[1])\n",
        "print('Proportion:', round(target_count[0] / target_count[1], 2), ': 1')\n",
        "\n",
        "target_count.plot(kind='bar', title='Count (target)')\n",
        "\n",
        "rus = RandomUnderSampler(random_state=42)\n",
        "X_rus, y_rus = rus.fit_sample(X, y)"
      ],
      "execution_count": 56,
      "outputs": [
        {
          "output_type": "stream",
          "text": [
            "Class 0: 179902\n",
            "Class 1: 20098\n",
            "Proportion: 8.95 : 1\n"
          ],
          "name": "stdout"
        },
        {
          "output_type": "display_data",
          "data": {
            "image/png": "[encoded data removed]",
            "text/plain": [
              "<Figure size 432x288 with 1 Axes>"
            ]
          },
          "metadata": {
            "tags": []
          }
        }
      ]
    },
    {
      "cell_type": "code",
      "metadata": {
        "id": "FAzCw_Ga9HEb",
        "colab_type": "code",
        "outputId": "598535b0-a021-480b-c982-e9ac1ee0d4e5",
        "colab": {
          "base_uri": "https://localhost:8080/",
          "height": 329
        }
      },
      "source": [
        "y_rus = pd.Series(y_rus)\n",
        "target_count = y_rus.value_counts()\n",
        "print('Class 0:', target_count[0])\n",
        "print('Class 1:', target_count[1])\n",
        "print('Proportion:', round(target_count[0] / target_count[1], 2), ': 1')\n",
        "\n",
        "target_count.plot(kind='bar', title='Count (target)')\n",
        "\n",
        "X = pd.DataFrame(X_rus)\n",
        "y = pd.Series(y_rus)"
      ],
      "execution_count": 57,
      "outputs": [
        {
          "output_type": "stream",
          "text": [
            "Class 0: 20098\n",
            "Class 1: 20098\n",
            "Proportion: 1.0 : 1\n"
          ],
          "name": "stdout"
        },
        {
          "output_type": "display_data",
          "data": {
            "image/png": "[encoded data removed]",
            "text/plain": [
              "<Figure size 432x288 with 1 Axes>"
            ]
          },
          "metadata": {
            "tags": []
          }
        }
      ]
    },
    {
      "cell_type": "markdown",
      "metadata": {
        "id": "L8H7D5oc8_9Q",
        "colab_type": "text"
      },
      "source": [
        "### Split en test y train\n",
        "\n",
        "Spliteamos el set de datos en test y train"
      ]
    },
    {
      "cell_type": "code",
      "metadata": {
        "id": "Pb1UWreW6IRA",
        "colab_type": "code",
        "outputId": "3880f412-b7a4-4bf9-da7f-9bd79cd330f1",
        "colab": {
          "base_uri": "https://localhost:8080/",
          "height": 270
        }
      },
      "source": [
        "X_train, X_test, y_train, y_test = train_test_split(X, y, test_size=0.33, random_state=42)\n",
        "\n",
        "print('Training features shape: ', X_train.shape)\n",
        "X_train.head()"
      ],
      "execution_count": 58,
      "outputs": [
        {
          "output_type": "stream",
          "text": [
            "Training features shape:  (26931, 200)\n"
          ],
          "name": "stdout"
        },
        {
          "output_type": "execute_result",
          "data": {
            "text/html": [
              "<div>\n",
              "<style scoped>\n",
              "    .dataframe tbody tr th:only-of-type {\n",
              "        vertical-align: middle;\n",
              "    }\n",
              "\n",
              "    .dataframe tbody tr th {\n",
              "        vertical-align: top;\n",
              "    }\n",
              "\n",
              "    .dataframe thead th {\n",
              "        text-align: right;\n",
              "    }\n",
              "</style>\n",
              "<table border=\"1\" class=\"dataframe\">\n",
              "  <thead>\n",
              "    <tr style=\"text-align: right;\">\n",
              "      <th></th>\n",
              "      <th>0</th>\n",
              "      <th>1</th>\n",
              "      <th>2</th>\n",
              "      <th>3</th>\n",
              "      <th>4</th>\n",
              "      <th>5</th>\n",
              "      <th>6</th>\n",
              "      <th>7</th>\n",
              "      <th>8</th>\n",
              "      <th>9</th>\n",
              "      <th>10</th>\n",
              "      <th>11</th>\n",
              "      <th>12</th>\n",
              "      <th>13</th>\n",
              "      <th>14</th>\n",
              "      <th>15</th>\n",
              "      <th>16</th>\n",
              "      <th>17</th>\n",
              "      <th>18</th>\n",
              "      <th>19</th>\n",
              "      <th>20</th>\n",
              "      <th>21</th>\n",
              "      <th>22</th>\n",
              "      <th>23</th>\n",
              "      <th>24</th>\n",
              "      <th>25</th>\n",
              "      <th>26</th>\n",
              "      <th>27</th>\n",
              "      <th>28</th>\n",
              "      <th>29</th>\n",
              "      <th>30</th>\n",
              "      <th>31</th>\n",
              "      <th>32</th>\n",
              "      <th>33</th>\n",
              "      <th>34</th>\n",
              "      <th>35</th>\n",
              "      <th>36</th>\n",
              "      <th>37</th>\n",
              "      <th>38</th>\n",
              "      <th>39</th>\n",
              "      <th>...</th>\n",
              "      <th>160</th>\n",
              "      <th>161</th>\n",
              "      <th>162</th>\n",
              "      <th>163</th>\n",
              "      <th>164</th>\n",
              "      <th>165</th>\n",
              "      <th>166</th>\n",
              "      <th>167</th>\n",
              "      <th>168</th>\n",
              "      <th>169</th>\n",
              "      <th>170</th>\n",
              "      <th>171</th>\n",
              "      <th>172</th>\n",
              "      <th>173</th>\n",
              "      <th>174</th>\n",
              "      <th>175</th>\n",
              "      <th>176</th>\n",
              "      <th>177</th>\n",
              "      <th>178</th>\n",
              "      <th>179</th>\n",
              "      <th>180</th>\n",
              "      <th>181</th>\n",
              "      <th>182</th>\n",
              "      <th>183</th>\n",
              "      <th>184</th>\n",
              "      <th>185</th>\n",
              "      <th>186</th>\n",
              "      <th>187</th>\n",
              "      <th>188</th>\n",
              "      <th>189</th>\n",
              "      <th>190</th>\n",
              "      <th>191</th>\n",
              "      <th>192</th>\n",
              "      <th>193</th>\n",
              "      <th>194</th>\n",
              "      <th>195</th>\n",
              "      <th>196</th>\n",
              "      <th>197</th>\n",
              "      <th>198</th>\n",
              "      <th>199</th>\n",
              "    </tr>\n",
              "  </thead>\n",
              "  <tbody>\n",
              "    <tr>\n",
              "      <th>280</th>\n",
              "      <td>7.8148</td>\n",
              "      <td>4.6008</td>\n",
              "      <td>9.4967</td>\n",
              "      <td>10.5197</td>\n",
              "      <td>14.1635</td>\n",
              "      <td>-14.1218</td>\n",
              "      <td>5.8633</td>\n",
              "      <td>19.8497</td>\n",
              "      <td>3.0082</td>\n",
              "      <td>7.8386</td>\n",
              "      <td>-7.4221</td>\n",
              "      <td>4.7617</td>\n",
              "      <td>13.8235</td>\n",
              "      <td>9.0852</td>\n",
              "      <td>6.6927</td>\n",
              "      <td>14.8153</td>\n",
              "      <td>6.4565</td>\n",
              "      <td>-1.2017</td>\n",
              "      <td>23.4862</td>\n",
              "      <td>9.2962</td>\n",
              "      <td>9.9175</td>\n",
              "      <td>18.8896</td>\n",
              "      <td>6.8364</td>\n",
              "      <td>3.8860</td>\n",
              "      <td>14.8118</td>\n",
              "      <td>14.1320</td>\n",
              "      <td>-9.3073</td>\n",
              "      <td>-0.2216</td>\n",
              "      <td>4.1578</td>\n",
              "      <td>7.1430</td>\n",
              "      <td>1.3369</td>\n",
              "      <td>10.8411</td>\n",
              "      <td>-1.4278</td>\n",
              "      <td>14.8357</td>\n",
              "      <td>11.2193</td>\n",
              "      <td>-3.6313</td>\n",
              "      <td>5.6279</td>\n",
              "      <td>4.4468</td>\n",
              "      <td>14.4730</td>\n",
              "      <td>8.8108</td>\n",
              "      <td>...</td>\n",
              "      <td>33.7357</td>\n",
              "      <td>5.6546</td>\n",
              "      <td>5.3092</td>\n",
              "      <td>7.1646</td>\n",
              "      <td>-2.1726</td>\n",
              "      <td>27.5807</td>\n",
              "      <td>2.9166</td>\n",
              "      <td>-10.2725</td>\n",
              "      <td>5.9638</td>\n",
              "      <td>5.9123</td>\n",
              "      <td>1.3171</td>\n",
              "      <td>4.3072</td>\n",
              "      <td>33.6089</td>\n",
              "      <td>4.2991</td>\n",
              "      <td>11.7996</td>\n",
              "      <td>13.4567</td>\n",
              "      <td>-3.4646</td>\n",
              "      <td>8.6954</td>\n",
              "      <td>-2.2195</td>\n",
              "      <td>2.2100</td>\n",
              "      <td>-6.8720</td>\n",
              "      <td>11.7611</td>\n",
              "      <td>7.0483</td>\n",
              "      <td>19.7032</td>\n",
              "      <td>1.6257</td>\n",
              "      <td>-3.5659</td>\n",
              "      <td>12.7430</td>\n",
              "      <td>-2.3376</td>\n",
              "      <td>15.5103</td>\n",
              "      <td>1.7003</td>\n",
              "      <td>3.5859</td>\n",
              "      <td>8.4562</td>\n",
              "      <td>3.2351</td>\n",
              "      <td>5.9766</td>\n",
              "      <td>22.4363</td>\n",
              "      <td>-1.5726</td>\n",
              "      <td>4.2021</td>\n",
              "      <td>8.6310</td>\n",
              "      <td>15.1199</td>\n",
              "      <td>-19.9529</td>\n",
              "    </tr>\n",
              "    <tr>\n",
              "      <th>31204</th>\n",
              "      <td>18.0146</td>\n",
              "      <td>-1.1725</td>\n",
              "      <td>8.6087</td>\n",
              "      <td>9.5053</td>\n",
              "      <td>10.2132</td>\n",
              "      <td>-16.6269</td>\n",
              "      <td>3.9507</td>\n",
              "      <td>18.0059</td>\n",
              "      <td>-0.7748</td>\n",
              "      <td>6.2474</td>\n",
              "      <td>-15.0747</td>\n",
              "      <td>0.2701</td>\n",
              "      <td>14.1443</td>\n",
              "      <td>0.8969</td>\n",
              "      <td>5.0202</td>\n",
              "      <td>14.1834</td>\n",
              "      <td>9.2536</td>\n",
              "      <td>-1.8543</td>\n",
              "      <td>28.3041</td>\n",
              "      <td>12.3736</td>\n",
              "      <td>6.9322</td>\n",
              "      <td>22.5097</td>\n",
              "      <td>0.2635</td>\n",
              "      <td>2.6894</td>\n",
              "      <td>14.2578</td>\n",
              "      <td>13.5429</td>\n",
              "      <td>-0.7945</td>\n",
              "      <td>-0.8757</td>\n",
              "      <td>3.9205</td>\n",
              "      <td>6.9403</td>\n",
              "      <td>5.5764</td>\n",
              "      <td>8.3011</td>\n",
              "      <td>-0.3050</td>\n",
              "      <td>20.2161</td>\n",
              "      <td>11.3755</td>\n",
              "      <td>7.0504</td>\n",
              "      <td>0.2655</td>\n",
              "      <td>4.6785</td>\n",
              "      <td>4.2352</td>\n",
              "      <td>-0.8554</td>\n",
              "      <td>...</td>\n",
              "      <td>40.2523</td>\n",
              "      <td>6.0785</td>\n",
              "      <td>5.8768</td>\n",
              "      <td>0.6145</td>\n",
              "      <td>-13.3187</td>\n",
              "      <td>16.8685</td>\n",
              "      <td>3.0915</td>\n",
              "      <td>-2.0190</td>\n",
              "      <td>8.3571</td>\n",
              "      <td>5.7277</td>\n",
              "      <td>4.2280</td>\n",
              "      <td>-2.9997</td>\n",
              "      <td>12.1944</td>\n",
              "      <td>7.3264</td>\n",
              "      <td>26.4817</td>\n",
              "      <td>9.3478</td>\n",
              "      <td>6.1692</td>\n",
              "      <td>10.4133</td>\n",
              "      <td>4.5145</td>\n",
              "      <td>-1.4508</td>\n",
              "      <td>-4.4718</td>\n",
              "      <td>10.2250</td>\n",
              "      <td>-7.9353</td>\n",
              "      <td>12.7331</td>\n",
              "      <td>21.2057</td>\n",
              "      <td>-1.9988</td>\n",
              "      <td>10.1750</td>\n",
              "      <td>-9.8022</td>\n",
              "      <td>23.0528</td>\n",
              "      <td>3.1066</td>\n",
              "      <td>3.5360</td>\n",
              "      <td>3.7231</td>\n",
              "      <td>2.1258</td>\n",
              "      <td>-0.5019</td>\n",
              "      <td>20.8090</td>\n",
              "      <td>0.4871</td>\n",
              "      <td>-6.1677</td>\n",
              "      <td>6.9445</td>\n",
              "      <td>9.2170</td>\n",
              "      <td>12.3858</td>\n",
              "    </tr>\n",
              "    <tr>\n",
              "      <th>38221</th>\n",
              "      <td>8.9720</td>\n",
              "      <td>0.3903</td>\n",
              "      <td>16.9752</td>\n",
              "      <td>5.7244</td>\n",
              "      <td>11.8059</td>\n",
              "      <td>-10.7927</td>\n",
              "      <td>4.5772</td>\n",
              "      <td>16.7334</td>\n",
              "      <td>1.7540</td>\n",
              "      <td>6.9121</td>\n",
              "      <td>9.3505</td>\n",
              "      <td>-2.0185</td>\n",
              "      <td>13.7551</td>\n",
              "      <td>0.0361</td>\n",
              "      <td>9.8933</td>\n",
              "      <td>14.6772</td>\n",
              "      <td>6.7174</td>\n",
              "      <td>-12.3217</td>\n",
              "      <td>33.0949</td>\n",
              "      <td>14.2371</td>\n",
              "      <td>12.6726</td>\n",
              "      <td>37.0907</td>\n",
              "      <td>6.9599</td>\n",
              "      <td>2.0119</td>\n",
              "      <td>13.4688</td>\n",
              "      <td>13.6112</td>\n",
              "      <td>-0.0144</td>\n",
              "      <td>-1.4075</td>\n",
              "      <td>4.6956</td>\n",
              "      <td>5.1505</td>\n",
              "      <td>-1.4122</td>\n",
              "      <td>9.7078</td>\n",
              "      <td>-0.0573</td>\n",
              "      <td>15.2067</td>\n",
              "      <td>11.2717</td>\n",
              "      <td>5.7239</td>\n",
              "      <td>3.3716</td>\n",
              "      <td>8.3088</td>\n",
              "      <td>15.5478</td>\n",
              "      <td>1.1058</td>\n",
              "      <td>...</td>\n",
              "      <td>36.4954</td>\n",
              "      <td>5.6095</td>\n",
              "      <td>3.3184</td>\n",
              "      <td>7.9448</td>\n",
              "      <td>-3.2160</td>\n",
              "      <td>21.5215</td>\n",
              "      <td>2.9006</td>\n",
              "      <td>-2.4891</td>\n",
              "      <td>3.3909</td>\n",
              "      <td>5.9250</td>\n",
              "      <td>0.3092</td>\n",
              "      <td>6.8081</td>\n",
              "      <td>1.6851</td>\n",
              "      <td>-2.8164</td>\n",
              "      <td>19.8268</td>\n",
              "      <td>7.6707</td>\n",
              "      <td>-4.3235</td>\n",
              "      <td>10.9744</td>\n",
              "      <td>12.0134</td>\n",
              "      <td>1.6332</td>\n",
              "      <td>-4.0203</td>\n",
              "      <td>13.3265</td>\n",
              "      <td>13.5195</td>\n",
              "      <td>16.2401</td>\n",
              "      <td>32.5721</td>\n",
              "      <td>-0.3786</td>\n",
              "      <td>8.1631</td>\n",
              "      <td>-4.1880</td>\n",
              "      <td>19.9053</td>\n",
              "      <td>1.1652</td>\n",
              "      <td>-1.0402</td>\n",
              "      <td>11.6758</td>\n",
              "      <td>1.5963</td>\n",
              "      <td>3.3562</td>\n",
              "      <td>13.6890</td>\n",
              "      <td>-0.5392</td>\n",
              "      <td>3.3213</td>\n",
              "      <td>8.6637</td>\n",
              "      <td>16.6363</td>\n",
              "      <td>-8.9053</td>\n",
              "    </tr>\n",
              "    <tr>\n",
              "      <th>38942</th>\n",
              "      <td>12.0708</td>\n",
              "      <td>-6.0413</td>\n",
              "      <td>12.3131</td>\n",
              "      <td>7.5284</td>\n",
              "      <td>14.1100</td>\n",
              "      <td>-0.2843</td>\n",
              "      <td>5.5642</td>\n",
              "      <td>18.8531</td>\n",
              "      <td>-4.2373</td>\n",
              "      <td>8.7117</td>\n",
              "      <td>-7.6439</td>\n",
              "      <td>-8.1667</td>\n",
              "      <td>13.6884</td>\n",
              "      <td>10.0372</td>\n",
              "      <td>10.3507</td>\n",
              "      <td>14.8753</td>\n",
              "      <td>6.3133</td>\n",
              "      <td>-9.9294</td>\n",
              "      <td>17.3074</td>\n",
              "      <td>10.7330</td>\n",
              "      <td>15.3584</td>\n",
              "      <td>16.2072</td>\n",
              "      <td>5.8824</td>\n",
              "      <td>3.5638</td>\n",
              "      <td>13.6368</td>\n",
              "      <td>13.7367</td>\n",
              "      <td>-0.7196</td>\n",
              "      <td>0.9578</td>\n",
              "      <td>5.0285</td>\n",
              "      <td>3.1771</td>\n",
              "      <td>-19.5297</td>\n",
              "      <td>11.7934</td>\n",
              "      <td>2.1461</td>\n",
              "      <td>13.1625</td>\n",
              "      <td>12.3178</td>\n",
              "      <td>15.8069</td>\n",
              "      <td>6.3136</td>\n",
              "      <td>3.1099</td>\n",
              "      <td>7.9489</td>\n",
              "      <td>2.7000</td>\n",
              "      <td>...</td>\n",
              "      <td>34.4956</td>\n",
              "      <td>5.8394</td>\n",
              "      <td>7.7232</td>\n",
              "      <td>7.8853</td>\n",
              "      <td>6.4243</td>\n",
              "      <td>17.9363</td>\n",
              "      <td>3.8877</td>\n",
              "      <td>-12.1478</td>\n",
              "      <td>3.8059</td>\n",
              "      <td>6.1199</td>\n",
              "      <td>5.9321</td>\n",
              "      <td>5.1913</td>\n",
              "      <td>11.6703</td>\n",
              "      <td>-4.4604</td>\n",
              "      <td>19.8324</td>\n",
              "      <td>8.6927</td>\n",
              "      <td>7.5198</td>\n",
              "      <td>17.4580</td>\n",
              "      <td>-13.6621</td>\n",
              "      <td>3.7851</td>\n",
              "      <td>-12.3356</td>\n",
              "      <td>9.6452</td>\n",
              "      <td>-14.1199</td>\n",
              "      <td>2.8802</td>\n",
              "      <td>-5.8417</td>\n",
              "      <td>-6.9667</td>\n",
              "      <td>8.4735</td>\n",
              "      <td>-8.2663</td>\n",
              "      <td>12.6746</td>\n",
              "      <td>1.8514</td>\n",
              "      <td>-1.6545</td>\n",
              "      <td>8.0627</td>\n",
              "      <td>2.6815</td>\n",
              "      <td>2.9577</td>\n",
              "      <td>19.1547</td>\n",
              "      <td>2.6538</td>\n",
              "      <td>-7.5773</td>\n",
              "      <td>8.0585</td>\n",
              "      <td>15.6332</td>\n",
              "      <td>-7.0306</td>\n",
              "    </tr>\n",
              "    <tr>\n",
              "      <th>39760</th>\n",
              "      <td>10.4633</td>\n",
              "      <td>-6.0537</td>\n",
              "      <td>12.4037</td>\n",
              "      <td>6.8912</td>\n",
              "      <td>10.0445</td>\n",
              "      <td>-14.3166</td>\n",
              "      <td>5.0104</td>\n",
              "      <td>15.3514</td>\n",
              "      <td>0.8525</td>\n",
              "      <td>7.2200</td>\n",
              "      <td>8.3152</td>\n",
              "      <td>-16.0780</td>\n",
              "      <td>13.9142</td>\n",
              "      <td>8.9452</td>\n",
              "      <td>10.0167</td>\n",
              "      <td>14.4704</td>\n",
              "      <td>5.5105</td>\n",
              "      <td>-9.5542</td>\n",
              "      <td>12.6880</td>\n",
              "      <td>16.6956</td>\n",
              "      <td>14.7283</td>\n",
              "      <td>22.4844</td>\n",
              "      <td>8.4282</td>\n",
              "      <td>2.6913</td>\n",
              "      <td>11.2820</td>\n",
              "      <td>13.7691</td>\n",
              "      <td>-12.6383</td>\n",
              "      <td>-0.0459</td>\n",
              "      <td>6.1124</td>\n",
              "      <td>1.2437</td>\n",
              "      <td>-9.2761</td>\n",
              "      <td>7.5291</td>\n",
              "      <td>1.0800</td>\n",
              "      <td>18.2679</td>\n",
              "      <td>11.9577</td>\n",
              "      <td>-1.5764</td>\n",
              "      <td>4.5784</td>\n",
              "      <td>8.3907</td>\n",
              "      <td>12.3583</td>\n",
              "      <td>-1.2123</td>\n",
              "      <td>...</td>\n",
              "      <td>30.5952</td>\n",
              "      <td>5.6792</td>\n",
              "      <td>4.9534</td>\n",
              "      <td>1.1874</td>\n",
              "      <td>-3.1496</td>\n",
              "      <td>14.9289</td>\n",
              "      <td>2.6520</td>\n",
              "      <td>-8.1345</td>\n",
              "      <td>3.6297</td>\n",
              "      <td>6.3881</td>\n",
              "      <td>-0.4982</td>\n",
              "      <td>1.2038</td>\n",
              "      <td>7.4966</td>\n",
              "      <td>-9.5708</td>\n",
              "      <td>30.5269</td>\n",
              "      <td>14.6438</td>\n",
              "      <td>6.2592</td>\n",
              "      <td>14.6235</td>\n",
              "      <td>-2.8210</td>\n",
              "      <td>-3.1899</td>\n",
              "      <td>-2.7069</td>\n",
              "      <td>10.1439</td>\n",
              "      <td>-13.7825</td>\n",
              "      <td>5.0357</td>\n",
              "      <td>3.1461</td>\n",
              "      <td>-0.1682</td>\n",
              "      <td>7.6611</td>\n",
              "      <td>-2.6792</td>\n",
              "      <td>10.1502</td>\n",
              "      <td>0.7510</td>\n",
              "      <td>9.4837</td>\n",
              "      <td>14.0110</td>\n",
              "      <td>1.7368</td>\n",
              "      <td>-3.7322</td>\n",
              "      <td>15.9385</td>\n",
              "      <td>1.3178</td>\n",
              "      <td>7.8334</td>\n",
              "      <td>8.8443</td>\n",
              "      <td>16.2694</td>\n",
              "      <td>-3.7486</td>\n",
              "    </tr>\n",
              "  </tbody>\n",
              "</table>\n",
              "<p>5 rows × 200 columns</p>\n",
              "</div>"
            ],
            "text/plain": [
              "           0       1        2        3    ...     196     197      198      199\n",
              "280     7.8148  4.6008   9.4967  10.5197  ...  4.2021  8.6310  15.1199 -19.9529\n",
              "31204  18.0146 -1.1725   8.6087   9.5053  ... -6.1677  6.9445   9.2170  12.3858\n",
              "38221   8.9720  0.3903  16.9752   5.7244  ...  3.3213  8.6637  16.6363  -8.9053\n",
              "38942  12.0708 -6.0413  12.3131   7.5284  ... -7.5773  8.0585  15.6332  -7.0306\n",
              "39760  10.4633 -6.0537  12.4037   6.8912  ...  7.8334  8.8443  16.2694  -3.7486\n",
              "\n",
              "[5 rows x 200 columns]"
            ]
          },
          "metadata": {
            "tags": []
          },
          "execution_count": 58
        }
      ]
    },
    {
      "cell_type": "code",
      "metadata": {
        "id": "5e09lgi8O7LU",
        "colab_type": "code",
        "colab": {}
      },
      "source": [
        "# Convert to numpy arrays\n",
        "#X_train = np.array(X_train)[:2000]\n",
        "X_train = np.array(X_train)\n",
        "X_test = np.array(X_test)\n",
        "\n",
        "# Sklearn wants the labels as one-dimensional vectors\n",
        "#y_train = np.array(y_train).reshape((-1,))[:2000]\n",
        "y_train = np.array(y_train).reshape((-1,))\n",
        "y_test = np.array(y_test).reshape((-1,))"
      ],
      "execution_count": 0,
      "outputs": []
    },
    {
      "cell_type": "markdown",
      "metadata": {
        "id": "gJRt6bpjPQ4g",
        "colab_type": "text"
      },
      "source": [
        "## Modelado"
      ]
    },
    {
      "cell_type": "markdown",
      "metadata": {
        "id": "obWb_UJ0dKIW",
        "colab_type": "text"
      },
      "source": [
        "### Tpot"
      ]
    },
    {
      "cell_type": "code",
      "metadata": {
        "id": "8T2PKK9gPUTi",
        "colab_type": "code",
        "colab": {}
      },
      "source": [
        "tpot = TPOTClassifier(scoring=\"accuracy\",\n",
        "                      generations=5,\n",
        "                      cv=5,\n",
        "                      max_time_mins=60,\n",
        "                      n_jobs=-1,\n",
        "                      random_state=42,\n",
        "                      verbosity=2,\n",
        "                      use_dask=True)"
      ],
      "execution_count": 0,
      "outputs": []
    },
    {
      "cell_type": "code",
      "metadata": {
        "id": "NN_p6-8QPh4F",
        "colab_type": "code",
        "colab": {}
      },
      "source": [
        "tpot.fit(X_train, y_train)\n",
        "\n",
        "print(\"Accuracy: \" + str(round(tpot.score(X_test, y_test),2)*100) + \"%\")"
      ],
      "execution_count": 0,
      "outputs": []
    },
    {
      "cell_type": "markdown",
      "metadata": {
        "id": "XVV4AFNfdNmb",
        "colab_type": "text"
      },
      "source": [
        "### RandomForest"
      ]
    },
    {
      "cell_type": "code",
      "metadata": {
        "id": "RF0Mh3sHdQGC",
        "colab_type": "code",
        "colab": {
          "base_uri": "https://localhost:8080/",
          "height": 136
        },
        "outputId": "02fd1129-b1c5-4b1b-9ffd-0e340efc8a2e"
      },
      "source": [
        "clf = RandomForestClassifier(n_estimators=100,\n",
        "                             random_state=42,\n",
        "                             n_jobs=-1)\n",
        "\n",
        "clf.fit(X_train, y_train)"
      ],
      "execution_count": 48,
      "outputs": [
        {
          "output_type": "execute_result",
          "data": {
            "text/plain": [
              "RandomForestClassifier(bootstrap=True, class_weight=None, criterion='gini',\n",
              "                       max_depth=None, max_features='auto', max_leaf_nodes=None,\n",
              "                       min_impurity_decrease=0.0, min_impurity_split=None,\n",
              "                       min_samples_leaf=1, min_samples_split=2,\n",
              "                       min_weight_fraction_leaf=0.0, n_estimators=100,\n",
              "                       n_jobs=-1, oob_score=False, random_state=42, verbose=0,\n",
              "                       warm_start=False)"
            ]
          },
          "metadata": {
            "tags": []
          },
          "execution_count": 48
        }
      ]
    },
    {
      "cell_type": "code",
      "metadata": {
        "id": "DGBab_3idpPD",
        "colab_type": "code",
        "colab": {
          "base_uri": "https://localhost:8080/",
          "height": 85
        },
        "outputId": "cbde8dfa-7c17-439d-abb6-47f9c2a21d79"
      },
      "source": [
        "y_pred = clf.predict(X_test)\n",
        "\n",
        "print(\"Accuracy:\", metrics.accuracy_score(y_test, y_pred))\n",
        "print(\"Recall:\", metrics.recall_score(y_test, y_pred))\n",
        "print(\"Precision:\", metrics.precision_score(y_test, y_pred))\n",
        "print(\"F1:\", metrics.f1_score(y_test, y_pred))"
      ],
      "execution_count": 50,
      "outputs": [
        {
          "output_type": "stream",
          "text": [
            "Accuracy: 0.7304937806257068\n",
            "Recall: 0.737850890431633\n",
            "Precision: 0.7267727070016352\n",
            "F1: 0.7322699018947053\n"
          ],
          "name": "stdout"
        }
      ]
    },
    {
      "cell_type": "markdown",
      "metadata": {
        "id": "oy9D-g7ri8yW",
        "colab_type": "text"
      },
      "source": [
        "### NaiveBayes"
      ]
    },
    {
      "cell_type": "code",
      "metadata": {
        "id": "shshhqM3jAJX",
        "colab_type": "code",
        "colab": {
          "base_uri": "https://localhost:8080/",
          "height": 34
        },
        "outputId": "9bf87078-a866-493e-8cef-642c661787a4"
      },
      "source": [
        "gnb = GaussianNB()\n",
        "\n",
        "gnb.fit(X_train, y_train)"
      ],
      "execution_count": 61,
      "outputs": [
        {
          "output_type": "execute_result",
          "data": {
            "text/plain": [
              "GaussianNB(priors=None, var_smoothing=1e-09)"
            ]
          },
          "metadata": {
            "tags": []
          },
          "execution_count": 61
        }
      ]
    },
    {
      "cell_type": "code",
      "metadata": {
        "id": "lOSON1MUjSOz",
        "colab_type": "code",
        "colab": {
          "base_uri": "https://localhost:8080/",
          "height": 85
        },
        "outputId": "89c41feb-c4ac-460a-e230-e1ead792b18b"
      },
      "source": [
        "y_pred = gnb.predict(X_test)\n",
        "\n",
        "print(\"Accuracy:\", metrics.accuracy_score(y_test, y_pred))\n",
        "print(\"Recall:\", metrics.recall_score(y_test, y_pred))\n",
        "print(\"Precision:\", metrics.precision_score(y_test, y_pred))\n",
        "print(\"F1:\", metrics.f1_score(y_test, y_pred))"
      ],
      "execution_count": 63,
      "outputs": [
        {
          "output_type": "stream",
          "text": [
            "Accuracy: 0.8044477949491142\n",
            "Recall: 0.7986718985813462\n",
            "Precision: 0.8076923076923077\n",
            "F1: 0.8031567764455911\n"
          ],
          "name": "stdout"
        }
      ]
    }
  ]
}